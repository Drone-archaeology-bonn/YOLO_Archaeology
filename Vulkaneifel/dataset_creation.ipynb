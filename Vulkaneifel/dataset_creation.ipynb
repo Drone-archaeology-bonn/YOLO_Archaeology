{
 "cells": [
  {
   "cell_type": "code",
   "execution_count": 27,
   "id": "a2dc01a3-0750-446b-81d0-eaf3d2f3e631",
   "metadata": {},
   "outputs": [],
   "source": [
    "import numpy as np\n",
    "from PIL import Image\n",
    "import os\n",
    "import shutil"
   ]
  },
  {
   "cell_type": "markdown",
   "id": "416b07df-00a5-4d2c-b3d4-6fdd9cb32b18",
   "metadata": {},
   "source": [
    "# Preparation"
   ]
  },
  {
   "cell_type": "code",
   "execution_count": 28,
   "id": "de8a9814-f4c7-4723-9439-6d2f88a0ee52",
   "metadata": {},
   "outputs": [],
   "source": [
    "max_x_tile = 217\n",
    "max_y_tile = 162 \n",
    "\n",
    "# Format should always be \"XXXXX\"\n",
    "all_tiles = [\"{:05d}\".format(number) for number in range(max_x_tile*max_y_tile)]\n",
    "\n",
    "#print(os.getcwd())"
   ]
  },
  {
   "cell_type": "markdown",
   "id": "e987daf8-3d64-470c-8a27-442679f0a829",
   "metadata": {},
   "source": [
    "# Dataset creation"
   ]
  },
  {
   "cell_type": "code",
   "execution_count": 29,
   "id": "5a88c295-7486-4294-89d8-a008618c4ae0",
   "metadata": {},
   "outputs": [
    {
     "name": "stdout",
     "output_type": "stream",
     "text": [
      "Creating train, val and test\n",
      "35154 24607 5273 5274 35154\n",
      "Done\n"
     ]
    }
   ],
   "source": [
    "print(\"Creating train, val and test\")\n",
    "\n",
    "\n",
    "image_base_src_path = \"Images\"\n",
    "image_base_target_path_train = \"dataset/images/train\"\n",
    "image_base_target_path_val = \"dataset/images/val\"\n",
    "image_base_target_path_test = \"dataset/images/test\"\n",
    "\n",
    "label_base_src_path = \"Labels\"\n",
    "label_base_target_path_train = \"dataset/labels/train\"\n",
    "label_base_target_path_val = \"dataset/labels/val\"\n",
    "label_base_target_path_test = \"dataset/labels/test\"\n",
    "\n",
    "train_percentage = 0.70\n",
    "val_percentage = 0.15\n",
    "# test will be 0.15 for now\n",
    "\n",
    "pic_amount = max_x_tile*max_y_tile\n",
    "train_amount = int(pic_amount*train_percentage)\n",
    "val_amount = int(pic_amount*val_percentage)\n",
    "test_amount = int(pic_amount - (train_amount + val_amount))\n",
    "print(pic_amount, train_amount, val_amount, test_amount, train_amount + val_amount + test_amount)\n",
    "    \n",
    "# Shuffel the numbers randomly\n",
    "tiles_int = np.asarray([number for number in range(pic_amount)]) \n",
    "np.random.shuffle(tiles_int)\n",
    "# Formating from int to matching string\n",
    "tiles_str = [\"{:05d}\".format(number) for number in tiles_int] # \"maybe 4 has to be changed to 5 or 6\"\n",
    "\n",
    "for i in range(train_amount):\n",
    "    #print(i)\n",
    "    image_file_name = tiles_str[i] + \".tif\"\n",
    "    image_src_path = os.path.join(image_base_src_path, image_file_name) \n",
    "    image_target_path = os.path.join(image_base_target_path_train,  image_file_name)\n",
    "    \n",
    "    label_file_name = tiles_str[i] + \".txt\"\n",
    "    label_src_path = os.path.join(label_base_src_path, label_file_name) \n",
    "    label_target_path = os.path.join(label_base_target_path_train,  label_file_name)\n",
    "        \n",
    "    image = Image.open(image_src_path)\n",
    "    image.save(image_target_path)\n",
    "    \n",
    "    #try:\n",
    "    path = shutil.copy(label_src_path, label_target_path)\n",
    "            \n",
    "    #except:\n",
    "        #print(\"No label for \" + image_file_name)\n",
    "    \n",
    "    \n",
    "for j in range(val_amount):\n",
    "    #print(j)\n",
    "    current = j +  train_amount   # Starting there where train stopped\n",
    "        \n",
    "    image_file_name = tiles_str[current] + \".tif\"\n",
    "    #print(image_file_name)\n",
    "    image_src_path = os.path.join(image_base_src_path, image_file_name) \n",
    "    image_target_path = os.path.join(image_base_target_path_val,  image_file_name)\n",
    "    \n",
    "    label_file_name = tiles_str[current] + \".txt\"          \n",
    "    label_src_path = os.path.join(label_base_src_path, label_file_name) \n",
    "    label_target_path = os.path.join(label_base_target_path_val,  label_file_name)\n",
    "    \n",
    "    image = Image.open(image_src_path)\n",
    "    image.save(image_target_path)\n",
    "    \n",
    "    #try:\n",
    "    path = shutil.copy(label_src_path, label_target_path)\n",
    "            \n",
    "    #except:\n",
    "        #print(\"No label for \" + image_file_name)\n",
    "    \n",
    "for k in range(test_amount):\n",
    "    #print(k)\n",
    "    current = k +  (train_amount + val_amount)   # Starting there where val stopped\n",
    "        \n",
    "    image_file_name = tiles_str[current] + \".tif\"\n",
    "    image_src_path = os.path.join(image_base_src_path, image_file_name) \n",
    "    image_target_path = os.path.join(image_base_target_path_test,  image_file_name)\n",
    "    \n",
    "    label_file_name = tiles_str[current] + \".txt\"          \n",
    "    label_src_path = os.path.join(label_base_src_path, label_file_name) \n",
    "    label_target_path = os.path.join(label_base_target_path_test,  label_file_name)\n",
    "    \n",
    "    image = Image.open(image_src_path)\n",
    "    image.save(image_target_path)\n",
    "    \n",
    "    #try:\n",
    "    path = shutil.copy(label_src_path, label_target_path)\n",
    "            \n",
    "    #except:\n",
    "        #print(\"No label for \" + image_file_name)\n",
    "\n",
    "print(\"Done\")"
   ]
  }
 ],
 "metadata": {
  "kernelspec": {
   "display_name": "Python 3 (ipykernel)",
   "language": "python",
   "name": "python3"
  },
  "language_info": {
   "codemirror_mode": {
    "name": "ipython",
    "version": 3
   },
   "file_extension": ".py",
   "mimetype": "text/x-python",
   "name": "python",
   "nbconvert_exporter": "python",
   "pygments_lexer": "ipython3",
   "version": "3.10.9"
  }
 },
 "nbformat": 4,
 "nbformat_minor": 5
}

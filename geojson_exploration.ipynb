{
 "cells": [
  {
   "cell_type": "code",
   "execution_count": 1,
   "id": "5a2d1a5d-97e8-4faa-ba26-497850c60a80",
   "metadata": {},
   "outputs": [],
   "source": [
    "import os\n",
    "import json\n",
    "import geojson\n"
   ]
  },
  {
   "cell_type": "markdown",
   "id": "9eedd56b-0145-4381-897e-52586f35b991",
   "metadata": {},
   "source": [
    "# Explore the GeoJSON file"
   ]
  },
  {
   "cell_type": "markdown",
   "id": "789a7d99-f4e3-40f2-8c4e-422f60b65ecc",
   "metadata": {},
   "source": [
    "## Import GeoJSON file"
   ]
  },
  {
   "cell_type": "markdown",
   "id": "6a22f6ac-5295-4824-bd29-c1f3cb596ae0",
   "metadata": {},
   "source": [
    "## Create function to test contents of properties dict"
   ]
  },
  {
   "cell_type": "code",
   "execution_count": 2,
   "id": "af813b7f-ba61-42be-8def-c76ef17f4b2a",
   "metadata": {},
   "outputs": [],
   "source": [
    "def test_properties(input: str) -> set:\n",
    "    my_set = set()\n",
    "    for i in range(len(json_file[\"features\"])):\n",
    "        my_set.add(json_file[\"features\"][i][\"properties\"][input])\n",
    "    \n",
    "    return my_set"
   ]
  },
  {
   "cell_type": "markdown",
   "id": "713261ad-74e8-4a8f-afbb-a7303b1754ad",
   "metadata": {
    "tags": []
   },
   "source": [
    "## Locate GeoJSON file"
   ]
  },
  {
   "cell_type": "code",
   "execution_count": 3,
   "id": "3a7c4a79-d06a-4111-9e3e-5ffd699caa6a",
   "metadata": {},
   "outputs": [
    {
     "data": {
      "text/plain": [
       "['LK_Vulkaneifel_1m_1_5_135.qgs',\n",
       " 'LK_Vulkaneifel_1m_1_5_135.tif',\n",
       " 'LK_Vulkaneifel_1m_DEM.tif',\n",
       " 'features_lidar.geojson',\n",
       " 'Training',\n",
       " '.ipynb_checkpoints',\n",
       " 'LK_Vulkaneifel_1m_1_5_135.tif.aux.xml']"
      ]
     },
     "execution_count": 3,
     "metadata": {},
     "output_type": "execute_result"
    }
   ],
   "source": [
    "os.listdir('Data')"
   ]
  },
  {
   "cell_type": "code",
   "execution_count": 4,
   "id": "77e9a8d2-3df3-47cd-acd4-1e423d6a4c90",
   "metadata": {},
   "outputs": [],
   "source": [
    "f = open(os.path.join('Data','features_lidar.geojson'))"
   ]
  },
  {
   "cell_type": "markdown",
   "id": "b7018779-bbc3-4e78-9ca1-b5acd2da7f50",
   "metadata": {},
   "source": [
    "## Pass GeoJSON file to GeoJSON library"
   ]
  },
  {
   "cell_type": "code",
   "execution_count": 5,
   "id": "cbe4957f-d969-4a6c-8ad1-0998abeb4c41",
   "metadata": {},
   "outputs": [],
   "source": [
    "json_file = geojson.load(f)"
   ]
  },
  {
   "cell_type": "code",
   "execution_count": 6,
   "id": "cf7e183b-2bd8-49a2-bf34-f6e14e6a6614",
   "metadata": {},
   "outputs": [
    {
     "data": {
      "text/plain": [
       "geojson.feature.FeatureCollection"
      ]
     },
     "execution_count": 6,
     "metadata": {},
     "output_type": "execute_result"
    }
   ],
   "source": [
    "type(json_file)"
   ]
  },
  {
   "cell_type": "code",
   "execution_count": 7,
   "id": "ac659be0-17df-4cb9-be4f-e1e00b544b0e",
   "metadata": {},
   "outputs": [
    {
     "data": {
      "text/plain": [
       "4947"
      ]
     },
     "execution_count": 7,
     "metadata": {},
     "output_type": "execute_result"
    }
   ],
   "source": [
    "len(json_file[\"features\"])"
   ]
  },
  {
   "cell_type": "markdown",
   "id": "8622286f-cf86-47d3-b881-22e1bfeb5425",
   "metadata": {},
   "source": [
    "## Verify Data"
   ]
  },
  {
   "cell_type": "markdown",
   "id": "01c508cf-e99a-4da7-8257-c73c28bd1ec3",
   "metadata": {
    "tags": []
   },
   "source": [
    "#### ID_limes_main"
   ]
  },
  {
   "cell_type": "code",
   "execution_count": 41,
   "id": "c62588a1-f336-464a-af5f-0250061abb1d",
   "metadata": {},
   "outputs": [],
   "source": [
    "my_dict = {}\n",
    "for i in range(len(json_file[\"features\"])):\n",
    "    curr =(json_file[\"features\"][i][\"properties\"][\"ID_limes_main\"])\n",
    "    if curr in my_dict:\n",
    "        print(\"uh oh\")\n",
    "        break\n",
    "    else:\n",
    "        my_dict[curr] = 0\n",
    "        "
   ]
  },
  {
   "cell_type": "markdown",
   "id": "d3fe01f4-632c-4d3c-9e47-6dd27f839e0c",
   "metadata": {
    "tags": []
   },
   "source": [
    "### name_limes_main"
   ]
  },
  {
   "cell_type": "code",
   "execution_count": 48,
   "id": "899a3da4-76fa-4fd0-bc99-c5116a6af96e",
   "metadata": {},
   "outputs": [
    {
     "data": {
      "text/plain": [
       "{'', 'Hügelgräber am Mordhügel', 'NULL ', None}"
      ]
     },
     "execution_count": 48,
     "metadata": {},
     "output_type": "execute_result"
    }
   ],
   "source": [
    "test_properties(\"name_limes_main\")"
   ]
  },
  {
   "cell_type": "markdown",
   "id": "27d8898e-f2ec-400d-891c-f0dd7ecce6fc",
   "metadata": {
    "tags": []
   },
   "source": [
    "### int_sitetype_limes"
   ]
  },
  {
   "cell_type": "code",
   "execution_count": 18,
   "id": "d2fdbaf4-bc0a-4a28-876b-8e38cd062deb",
   "metadata": {},
   "outputs": [],
   "source": [
    "my_set = set()\n",
    "for i in range(len(json_file[\"features\"])):\n",
    "    #print(json_file[\"features\"][i][\"properties\"][\"int_sitetype_limes\"])\n",
    "    my_set.add(json_file[\"features\"][i][\"properties\"][\"int_sitetype_limes\"])"
   ]
  },
  {
   "cell_type": "code",
   "execution_count": 46,
   "id": "ca97233a-76b2-4db4-937c-c71aff2ecf99",
   "metadata": {},
   "outputs": [
    {
     "data": {
      "text/plain": [
       "{'Bombentrichter', 'Grabhügel', 'Meilerpodium'}"
      ]
     },
     "execution_count": 46,
     "metadata": {},
     "output_type": "execute_result"
    }
   ],
   "source": [
    "test_properties(\"int_sitetype_limes\")"
   ]
  },
  {
   "cell_type": "markdown",
   "id": "ea15d306-6ba5-48c9-9627-e5d03014f24c",
   "metadata": {},
   "source": [
    "### int_period_limes"
   ]
  },
  {
   "cell_type": "code",
   "execution_count": 55,
   "id": "947e8d8a-c5cf-4c8c-8fbb-1aff749c09f7",
   "metadata": {},
   "outputs": [
    {
     "data": {
      "text/plain": [
       "{'Neuzeit',\n",
       " None,\n",
       " 'Römische Kaiserzeit',\n",
       " 'Vorrömische Eisenzeit',\n",
       " 'ZweiterWeltkrieg'}"
      ]
     },
     "execution_count": 55,
     "metadata": {},
     "output_type": "execute_result"
    }
   ],
   "source": [
    "test_properties(\"int_period_limes\")"
   ]
  },
  {
   "cell_type": "markdown",
   "id": "59915785-79b6-4cae-9d53-4199aef23f15",
   "metadata": {
    "tags": []
   },
   "source": [
    "### int_detect_limes"
   ]
  },
  {
   "cell_type": "code",
   "execution_count": 42,
   "id": "3822dae3-b313-409c-bade-8974dec2841d",
   "metadata": {},
   "outputs": [
    {
     "data": {
      "text/plain": [
       "{'DOP 40 RLP', 'LiDAR-RLP'}"
      ]
     },
     "execution_count": 42,
     "metadata": {},
     "output_type": "execute_result"
    }
   ],
   "source": [
    "my_set = set()\n",
    "for i in range(len(json_file[\"features\"])):\n",
    "    my_set.add(json_file[\"features\"][i][\"properties\"][\"int_detect_limes\"])\n",
    "\n",
    "my_set"
   ]
  },
  {
   "cell_type": "code",
   "execution_count": 47,
   "id": "09c8d718-7c79-45a1-b564-08d3950ab838",
   "metadata": {},
   "outputs": [
    {
     "data": {
      "text/plain": [
       "{'DOP 40 RLP', 'LiDAR-RLP'}"
      ]
     },
     "execution_count": 47,
     "metadata": {},
     "output_type": "execute_result"
    }
   ],
   "source": [
    "test_properties(\"int_detect_limes\")"
   ]
  },
  {
   "cell_type": "markdown",
   "id": "3dbdf604-99bd-4a5a-b591-0d3bc296238b",
   "metadata": {
    "tags": []
   },
   "source": [
    "### Beschreibung"
   ]
  },
  {
   "cell_type": "code",
   "execution_count": 50,
   "id": "61a0eba4-fc96-4547-99aa-e65906c266f3",
   "metadata": {},
   "outputs": [
    {
     "data": {
      "text/plain": [
       "{'',\n",
       " 'Auf einem Höhenrücken westnordwestlich von Schalkenmehren liegen drei große Grabhügel, die 1860 geöffnet wurden. In einem der Hügel fand sich angeblich eine römische Aschenkiste (Funde verschollen).',\n",
       " 'Mertens Beinhausen 1',\n",
       " None,\n",
       " 'Statt der in der KDB erwähnten drei Hügel, sind nur zwei noch sichtbar. ',\n",
       " 'Zwei Hügel von 16 bzw. 18 Metern Durchmesser wurden 1935 bei Rodungsarbeiten entdeckt und sind heute völlig verebnet. Die römischen Bestattungen lagen als Nachbestattungen am Hügelrand. Eine Zuweisung der verschiedenen Bestattungen zu einem der beiden Hügel ist heute nicht mehr möglich. [1]',\n",
       " 'https://kulturdb.de/einobjekt.php?id=12214',\n",
       " 'https://kulturdb.de/einobjekt.php?id=12407',\n",
       " 'https://kulturdb.de/einobjekt.php?id=41125',\n",
       " 'https://kulturdb.de/einobjekt.php?id=4484'}"
      ]
     },
     "execution_count": 50,
     "metadata": {},
     "output_type": "execute_result"
    }
   ],
   "source": [
    "test_properties(\"Beschreibung\")"
   ]
  },
  {
   "cell_type": "markdown",
   "id": "4fc40baf-127b-46e8-afeb-37f16dd81406",
   "metadata": {},
   "source": [
    "### int_contribute"
   ]
  },
  {
   "cell_type": "code",
   "execution_count": 49,
   "id": "012804c3-4b20-438b-97cf-dee9bcbbf70c",
   "metadata": {},
   "outputs": [
    {
     "data": {
      "text/plain": [
       "{1, 4, 5, 6, 7, 9}"
      ]
     },
     "execution_count": 49,
     "metadata": {},
     "output_type": "execute_result"
    }
   ],
   "source": [
    "test_properties(\"int_contribute\")"
   ]
  },
  {
   "cell_type": "markdown",
   "id": "f18a3ba8-ccbd-45e3-a101-41f3ef4c859b",
   "metadata": {},
   "source": [
    "### KDB_Link"
   ]
  },
  {
   "cell_type": "markdown",
   "id": "637c125e-a795-4446-a676-ffa031c6f2f8",
   "metadata": {},
   "source": [
    "test_properties(\"KDB_Link\")"
   ]
  },
  {
   "cell_type": "markdown",
   "id": "4c446f3d-8722-4873-bd0d-e2e16c749921",
   "metadata": {},
   "source": [
    "### int_period_fine"
   ]
  },
  {
   "cell_type": "code",
   "execution_count": 52,
   "id": "6014bcce-2083-4008-8117-6b9977e0237f",
   "metadata": {},
   "outputs": [
    {
     "data": {
      "text/plain": [
       "{1, 17, None}"
      ]
     },
     "execution_count": 52,
     "metadata": {},
     "output_type": "execute_result"
    }
   ],
   "source": [
    "test_properties(\"int_period_fine\")"
   ]
  },
  {
   "cell_type": "markdown",
   "id": "5109e487-2759-4096-b25e-19671fa78281",
   "metadata": {
    "tags": []
   },
   "source": [
    "### int_confidence_sitetyp"
   ]
  },
  {
   "cell_type": "code",
   "execution_count": 53,
   "id": "67e3c60e-adeb-46f9-a7e2-9db1a4a7dbb6",
   "metadata": {},
   "outputs": [
    {
     "data": {
      "text/plain": [
       "{1, 17, 18, 2, 3, None}"
      ]
     },
     "execution_count": 53,
     "metadata": {},
     "output_type": "execute_result"
    }
   ],
   "source": [
    "test_properties(\"int_confidence_sitetyp\")"
   ]
  },
  {
   "cell_type": "markdown",
   "id": "75e14f39-1b3a-4ff1-912e-6f4d16123ac4",
   "metadata": {},
   "source": [
    "### bibliography"
   ]
  },
  {
   "cell_type": "code",
   "execution_count": 54,
   "id": "6f14b3cd-9f65-4e52-9e67-34bc14103a5f",
   "metadata": {},
   "outputs": [
    {
     "data": {
      "text/plain": [
       "{'Mertens 1980, 415\\n',\n",
       " 'Mertens 1980, 427',\n",
       " 'Mertens 1980, 430',\n",
       " 'Mertens 1980, 431',\n",
       " None,\n",
       " 'https://journals.ub.uni-heidelberg.de/index.php/fuabt/article/view/54692/54948'}"
      ]
     },
     "execution_count": 54,
     "metadata": {},
     "output_type": "execute_result"
    }
   ],
   "source": [
    "test_properties(\"bibliography\")"
   ]
  },
  {
   "cell_type": "markdown",
   "id": "b331fd56-7a54-4688-ae88-d02691b1d7a7",
   "metadata": {},
   "source": [
    "## Conclusion"
   ]
  },
  {
   "cell_type": "markdown",
   "id": "1254d073-a0a3-4e29-b9c2-58e6a33496dc",
   "metadata": {},
   "source": [
    "I have gained a better undrestanding of the features.\n",
    "I did this by creating helper functions that allowed me to easily check all feature properties. \n",
    "\n",
    "Next I need to understand the coordinates better. I am not to sure how I will do this at the moment.\n",
    "I could maybe play arround in QGIS and play arround with the build in functions.\n"
   ]
  },
  {
   "cell_type": "markdown",
   "id": "bc888a79-9680-46b6-913d-589a7027a470",
   "metadata": {},
   "source": [
    "# Understand coordinates"
   ]
  },
  {
   "cell_type": "markdown",
   "id": "a6e6aec4-7c96-4075-9c88-3d948de1108b",
   "metadata": {},
   "source": [
    "Once I am able to understand the coordinates I can try to mark them on the GeoTIFF,\n",
    "maybe this will let me create the data necessary for PyTorch"
   ]
  }
 ],
 "metadata": {
  "kernelspec": {
   "display_name": "Python 3 (ipykernel)",
   "language": "python",
   "name": "python3"
  },
  "language_info": {
   "codemirror_mode": {
    "name": "ipython",
    "version": 3
   },
   "file_extension": ".py",
   "mimetype": "text/x-python",
   "name": "python",
   "nbconvert_exporter": "python",
   "pygments_lexer": "ipython3",
   "version": "3.10.9"
  }
 },
 "nbformat": 4,
 "nbformat_minor": 5
}

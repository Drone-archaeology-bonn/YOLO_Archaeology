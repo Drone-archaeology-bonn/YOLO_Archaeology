{
 "cells": [
  {
   "cell_type": "code",
   "execution_count": 16,
   "id": "462d3956-d82c-4847-b3fd-535f8eda8ea0",
   "metadata": {},
   "outputs": [],
   "source": [
    "import os\n",
    "from PIL import Image"
   ]
  },
  {
   "cell_type": "markdown",
   "id": "9826a09d-729d-487b-b087-84ad13d83339",
   "metadata": {},
   "source": [
    "# Preparation"
   ]
  },
  {
   "cell_type": "code",
   "execution_count": 23,
   "id": "47b06cc7-4c17-4b9f-ab7f-00b3a3ebc127",
   "metadata": {},
   "outputs": [],
   "source": [
    "max_x_tile = 40 \n",
    "max_y_tile = 40 \n",
    "\n",
    "x_tiles = [\"{:04d}\".format(number) for number in range(max_x_tile)]\n",
    "y_tiles = [\"{:04d}\".format(number) for number in range(max_y_tile)]\n",
    "all_tiles = [\"{:04d}\".format(number) for number in range(max_x_tile*max_y_tile)]\n",
    "\n",
    "base_src_path = \"split_images\"\n",
    "base_target_path = \"Images\"\n",
    "\n",
    "#print(os.getcwd())"
   ]
  },
  {
   "cell_type": "code",
   "execution_count": 24,
   "id": "8b274ce1-d019-4140-996f-dd7bf0413e04",
   "metadata": {},
   "outputs": [],
   "source": [
    "print(\"Start renaming the images\")\n",
    "\n",
    "for i in range(max_x_tile):\n",
    "    for j in range(max_y_tile):\n",
    "        \n",
    "        # e.g. 'split_images/0000/0000/0000_0000.tif'\n",
    "        file_name_tif = x_tiles[i] + \"_\" + y_tiles[j] + \".tif\"\n",
    "        src_path = os.path.join(base_src_path, x_tiles[i], y_tiles[j], file_name_tif)\n",
    "        #print(base_src_path + x_tiles[i] + y_tiles[j] + file_name_tif)\n",
    "         \n",
    "        #e.g 'Images/0000.tif'\n",
    "        target_file_name = all_tiles[max_y_tile*i + j] + \".tif\"\n",
    "        target_path = os.path.join(base_target_path, target_file_name)\n",
    "        #print(base_target_path, target_file_name)\n",
    "        \n",
    "        try:\n",
    "            image = Image.open(src_path)\n",
    "            image.save(target_path)\n",
    "        \n",
    "        except:\n",
    "            print(\"No image \" + file_name_tif)\n",
    "            \n",
    "print(\"Done\")"
   ]
  },
  {
   "cell_type": "code",
   "execution_count": null,
   "id": "4b6827f4-6066-45ab-9157-9f7236b46633",
   "metadata": {},
   "outputs": [],
   "source": []
  }
 ],
 "metadata": {
  "kernelspec": {
   "display_name": "Python 3 (ipykernel)",
   "language": "python",
   "name": "python3"
  },
  "language_info": {
   "codemirror_mode": {
    "name": "ipython",
    "version": 3
   },
   "file_extension": ".py",
   "mimetype": "text/x-python",
   "name": "python",
   "nbconvert_exporter": "python",
   "pygments_lexer": "ipython3",
   "version": "3.10.9"
  }
 },
 "nbformat": 4,
 "nbformat_minor": 5
}

{
 "cells": [
  {
   "cell_type": "code",
   "execution_count": 4,
   "id": "8715dcae-a6fe-4209-ba9a-1bc012c3b3e2",
   "metadata": {},
   "outputs": [],
   "source": [
    "import numpy as np\n",
    "from PIL import Image\n",
    "import os"
   ]
  },
  {
   "cell_type": "markdown",
   "id": "6f63f1a0-abf8-4077-b700-35a8935f244f",
   "metadata": {},
   "source": [
    "# Preparation"
   ]
  },
  {
   "cell_type": "code",
   "execution_count": 11,
   "id": "f45c5f4a-fc99-4f1d-8963-73253fdebafe",
   "metadata": {},
   "outputs": [],
   "source": [
    "max_x_tile = 40 \n",
    "max_y_tile = 40\n",
    "\n",
    "# Format should always be \"XXXX\"\n",
    "x_tiles = [\"{:04d}\".format(number) for number in range(max_x_tile)]\n",
    "y_tiles = [\"{:04d}\".format(number) for number in range(max_y_tile)]\n",
    "all_tiles = [\"{:04d}\".format(number) for number in range(max_x_tile*max_y_tile)]\n",
    "\n",
    "#print(os.getcwd())"
   ]
  },
  {
   "cell_type": "code",
   "execution_count": 14,
   "id": "94a79fe4-6aad-42bf-8759-18ab2a6a9dcd",
   "metadata": {},
   "outputs": [
    {
     "name": "stdout",
     "output_type": "stream",
     "text": [
      "Creating train, val and test\n",
      "1600 1120 240 240 1600\n",
      "Done\n"
     ]
    }
   ],
   "source": [
    "print(\"Creating train, val and test\")\n",
    "\n",
    "\n",
    "base_src_path = \"Images\"\n",
    "base_target_path_train = \"dataset/images/train\"\n",
    "base_target_path_val = \"dataset/images/val\"\n",
    "base_target_path_test = \"dataset/images/test\"\n",
    "\n",
    "train_percentage = 0.70\n",
    "val_percentage = 0.15\n",
    "# test will be 0.15 for now\n",
    "\n",
    "pic_amount = max_x_tile*max_y_tile\n",
    "train_amount = int(pic_amount*train_percentage)\n",
    "val_amount = int(pic_amount*val_percentage)\n",
    "test_amount = int(pic_amount - (train_amount + val_amount))\n",
    "print(pic_amount, train_amount, val_amount, test_amount, train_amount + val_amount + test_amount)\n",
    "    \n",
    "# Shuffel the numbers randomly\n",
    "tiles_int = np.asarray([number for number in range(pic_amount)]) \n",
    "np.random.shuffle(tiles_int)\n",
    "# Formating from int to matching string\n",
    "tiles_str = [\"{:04d}\".format(number) for number in tiles_int] # \"maybe 4 has to be changed to 5 or 6\"\n",
    "\n",
    "for i in range(train_amount):\n",
    "    file_name = tiles_str[i] + \".tif\"\n",
    "    src_path = os.path.join(base_src_path, file_name) \n",
    "    target_path = os.path.join(base_target_path_train,  file_name)\n",
    "        \n",
    "    image = Image.open(src_path)\n",
    "    image.save(target_path)\n",
    "    \n",
    "for j in range(val_amount):\n",
    "    current = j +  train_amount   # Starting there where train stopped\n",
    "        \n",
    "    file_name = tiles_str[current] + \".tif\"\n",
    "    src_path = os.path.join(base_src_path, file_name) \n",
    "    target_path = os.path.join(base_target_path_val,  file_name)\n",
    "        \n",
    "    image = Image.open(src_path)\n",
    "    image.save(target_path)\n",
    "    \n",
    "for k in range(test_amount):\n",
    "    current = k +  (train_amount + val_amount)   # Starting there where test stopped\n",
    "        \n",
    "    file_name = tiles_str[current] + \".tif\"\n",
    "    src_path = os.path.join(base_src_path, file_name) \n",
    "    target_path = os.path.join(base_target_path_test,  file_name)\n",
    "        \n",
    "    image = Image.open(src_path)\n",
    "    image.save(target_path)\n",
    "\n",
    "print(\"Done\")"
   ]
  },
  {
   "cell_type": "code",
   "execution_count": null,
   "id": "5e3e648c-ec89-4fe8-bcbe-bb40b7bb296d",
   "metadata": {},
   "outputs": [],
   "source": []
  }
 ],
 "metadata": {
  "kernelspec": {
   "display_name": "Python 3 (ipykernel)",
   "language": "python",
   "name": "python3"
  },
  "language_info": {
   "codemirror_mode": {
    "name": "ipython",
    "version": 3
   },
   "file_extension": ".py",
   "mimetype": "text/x-python",
   "name": "python",
   "nbconvert_exporter": "python",
   "pygments_lexer": "ipython3",
   "version": "3.10.9"
  }
 },
 "nbformat": 4,
 "nbformat_minor": 5
}

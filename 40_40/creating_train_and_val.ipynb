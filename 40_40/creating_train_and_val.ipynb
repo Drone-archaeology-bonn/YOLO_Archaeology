{
 "cells": [
  {
   "cell_type": "code",
   "execution_count": 26,
   "id": "8715dcae-a6fe-4209-ba9a-1bc012c3b3e2",
   "metadata": {},
   "outputs": [],
   "source": [
    "import numpy as np\n",
    "from PIL import Image"
   ]
  },
  {
   "cell_type": "markdown",
   "id": "6f63f1a0-abf8-4077-b700-35a8935f244f",
   "metadata": {},
   "source": [
    "# Preparation"
   ]
  },
  {
   "cell_type": "code",
   "execution_count": 33,
   "id": "f45c5f4a-fc99-4f1d-8963-73253fdebafe",
   "metadata": {},
   "outputs": [
    {
     "name": "stdout",
     "output_type": "stream",
     "text": [
      "/home/inu/NextCloud/School/9_Semester/BNTrAinee/Dataloader/40_40\n"
     ]
    }
   ],
   "source": [
    "max_x_tile = 40 \n",
    "max_y_tile = 40\n",
    "\n",
    "# Format should always be \"XXXX\"\n",
    "x_tiles = [\"{:04d}\".format(number) for number in range(max_x_tile)]\n",
    "y_tiles = [\"{:04d}\".format(number) for number in range(max_y_tile)]\n",
    "all_tiles = [\"{:04d}\".format(number) for number in range(max_x_tile*max_y_tile)]\n",
    "\n",
    "print(os.getcwd())"
   ]
  },
  {
   "cell_type": "code",
   "execution_count": 37,
   "id": "94a79fe4-6aad-42bf-8759-18ab2a6a9dcd",
   "metadata": {},
   "outputs": [
    {
     "name": "stdout",
     "output_type": "stream",
     "text": [
      "Creating train and val\n",
      "Done\n"
     ]
    }
   ],
   "source": [
    "print(\"Creating train and val\")\n",
    "\n",
    "\n",
    "base_src_path = \"Images\"\n",
    "base_target_path_train = \"Train\"\n",
    "base_target_path_val = \"Val\"\n",
    "\n",
    "\n",
    "def create_train_val(max_x_tile, max_y_tile, percentage):\n",
    "    pic_amount = max_x_tile*max_y_tile\n",
    "    train_amount = int(pic_amount*percentage)\n",
    "    val_amount = pic_amount -  train_amount\n",
    " \n",
    "    # Shuffel the numbers randomly\n",
    "    tiles_int = np.asarray([number for number in range(pic_amount)]) \n",
    "    np.random.shuffle(tiles_int)\n",
    "    # Formating from int to matching string\n",
    "    tiles_str = [\"{:04d}\".format(number) for number in tiles_int] # \"maybe 4 has to be changed to 5 or 6\"\n",
    "\n",
    "    for i in range(train_amount):\n",
    "        file_name = tiles_str[i] + \".tif\"\n",
    "        src_path = os.path.join(base_src_path, file_name) \n",
    "        target_path = os.path.join(base_target_path_train,  file_name)\n",
    "        \n",
    "        image = Image.open(src_path)\n",
    "        image.save(target_path)\n",
    "  \n",
    "    for j in range(val_amount):\n",
    "        current = j +  train_amount   # Starting there were train stopped\n",
    "        \n",
    "        file_name = tiles_str[current] + \".tif\"\n",
    "        src_path = os.path.join(base_src_path, file_name) \n",
    "        target_path = os.path.join(base_target_path_val,  file_name)\n",
    "        \n",
    "        image = Image.open(src_path)\n",
    "        image.save(target_path,)\n",
    "\n",
    "    return\n",
    "    \n",
    "    \n",
    "create_train_val(max_x_tile, max_y_tile, 0.8)\n",
    "\n",
    "print(\"Done\")"
   ]
  },
  {
   "cell_type": "code",
   "execution_count": null,
   "id": "7dc979e6-4166-4980-868e-05fbf52a9aa7",
   "metadata": {},
   "outputs": [],
   "source": []
  }
 ],
 "metadata": {
  "kernelspec": {
   "display_name": "Python 3 (ipykernel)",
   "language": "python",
   "name": "python3"
  },
  "language_info": {
   "codemirror_mode": {
    "name": "ipython",
    "version": 3
   },
   "file_extension": ".py",
   "mimetype": "text/x-python",
   "name": "python",
   "nbconvert_exporter": "python",
   "pygments_lexer": "ipython3",
   "version": "3.10.9"
  }
 },
 "nbformat": 4,
 "nbformat_minor": 5
}

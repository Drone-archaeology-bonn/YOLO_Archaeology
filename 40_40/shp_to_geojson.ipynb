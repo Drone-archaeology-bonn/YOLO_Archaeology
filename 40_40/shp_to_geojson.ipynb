{
 "cells": [
  {
   "cell_type": "code",
   "execution_count": 27,
   "id": "fc4a05e5-0b81-445f-b632-d39355008620",
   "metadata": {},
   "outputs": [],
   "source": [
    "import os\n",
    "import json\n",
    "import geopandas"
   ]
  },
  {
   "cell_type": "markdown",
   "id": "fb02840b-9252-40cc-a62c-ed047293b977",
   "metadata": {},
   "source": [
    "# Preparation"
   ]
  },
  {
   "cell_type": "code",
   "execution_count": 28,
   "id": "bfc44ab7-6832-4981-b741-c7c89997c9cf",
   "metadata": {},
   "outputs": [],
   "source": [
    "max_x_tile = 40 \n",
    "max_y_tile = 40 \n",
    "\n",
    "# Format should always be \"XXXX\"\n",
    "x_tiles = [\"{:04d}\".format(number) for number in range(max_x_tile)]\n",
    "y_tiles = [\"{:04d}\".format(number) for number in range(max_y_tile)]\n",
    "all_tiles = [\"{:04d}\".format(number) for number in range(max_x_tile*max_y_tile)]"
   ]
  },
  {
   "cell_type": "markdown",
   "id": "da28427e-1dea-4607-ab31-03cd6185554b",
   "metadata": {},
   "source": [
    "# Convert shp's to GeoJSON's"
   ]
  },
  {
   "cell_type": "code",
   "execution_count": 29,
   "id": "59f7584f-1352-4ee0-811c-68189e46c776",
   "metadata": {},
   "outputs": [
    {
     "name": "stdout",
     "output_type": "stream",
     "text": [
      "Start converting shp's into geojson's\n",
      "40_40/split_features/0000/0000.shp\n",
      "40_40/split_features/0040/0040.shp\n",
      "40_40/split_features/0080/0080.shp\n",
      "40_40/split_features/0120/0120.shp\n",
      "40_40/split_features/0160/0160.shp\n",
      "40_40/split_features/0200/0200.shp\n",
      "40_40/split_features/0240/0240.shp\n",
      "40_40/split_features/0280/0280.shp\n",
      "40_40/split_features/0320/0320.shp\n",
      "40_40/split_features/0360/0360.shp\n",
      "40_40/split_features/0400/0400.shp\n",
      "40_40/split_features/0440/0440.shp\n",
      "40_40/split_features/0480/0480.shp\n",
      "40_40/split_features/0520/0520.shp\n",
      "40_40/split_features/0560/0560.shp\n",
      "40_40/split_features/0600/0600.shp\n",
      "40_40/split_features/0640/0640.shp\n",
      "40_40/split_features/0680/0680.shp\n",
      "40_40/split_features/0720/0720.shp\n",
      "40_40/split_features/0760/0760.shp\n",
      "40_40/split_features/0800/0800.shp\n",
      "40_40/split_features/0840/0840.shp\n",
      "40_40/split_features/0880/0880.shp\n",
      "40_40/split_features/0920/0920.shp\n",
      "40_40/split_features/0960/0960.shp\n",
      "40_40/split_features/1000/1000.shp\n",
      "40_40/split_features/1040/1040.shp\n",
      "40_40/split_features/1080/1080.shp\n",
      "40_40/split_features/1120/1120.shp\n",
      "40_40/split_features/1160/1160.shp\n",
      "40_40/split_features/1200/1200.shp\n",
      "40_40/split_features/1240/1240.shp\n",
      "40_40/split_features/1280/1280.shp\n",
      "40_40/split_features/1320/1320.shp\n",
      "40_40/split_features/1360/1360.shp\n",
      "40_40/split_features/1400/1400.shp\n",
      "40_40/split_features/1440/1440.shp\n",
      "40_40/split_features/1480/1480.shp\n",
      "40_40/split_features/1520/1520.shp\n",
      "40_40/split_features/1560/1560.shp\n",
      "40_40/split_features/1561/1561.shp\n",
      "40_40/split_features/1562/1562.shp\n",
      "40_40/split_features/1563/1563.shp\n",
      "40_40/split_features/1564/1564.shp\n",
      "40_40/split_features/1565/1565.shp\n",
      "40_40/split_features/1566/1566.shp\n",
      "40_40/split_features/1567/1567.shp\n",
      "40_40/split_features/1568/1568.shp\n",
      "40_40/split_features/1569/1569.shp\n",
      "40_40/split_features/1570/1570.shp\n",
      "40_40/split_features/1571/1571.shp\n",
      "40_40/split_features/1572/1572.shp\n",
      "40_40/split_features/1573/1573.shp\n",
      "40_40/split_features/1574/1574.shp\n",
      "40_40/split_features/1575/1575.shp\n",
      "40_40/split_features/1576/1576.shp\n",
      "40_40/split_features/1577/1577.shp\n",
      "40_40/split_features/1578/1578.shp\n",
      "40_40/split_features/1579/1579.shp\n",
      "40_40/split_features/1580/1580.shp\n",
      "40_40/split_features/1581/1581.shp\n",
      "40_40/split_features/1582/1582.shp\n",
      "40_40/split_features/1583/1583.shp\n",
      "40_40/split_features/1584/1584.shp\n",
      "40_40/split_features/1585/1585.shp\n",
      "40_40/split_features/1586/1586.shp\n",
      "40_40/split_features/1587/1587.shp\n",
      "40_40/split_features/1588/1588.shp\n",
      "40_40/split_features/1589/1589.shp\n",
      "40_40/split_features/1590/1590.shp\n",
      "40_40/split_features/1591/1591.shp\n",
      "40_40/split_features/1592/1592.shp\n",
      "40_40/split_features/1593/1593.shp\n",
      "40_40/split_features/1594/1594.shp\n",
      "40_40/split_features/1595/1595.shp\n",
      "40_40/split_features/1596/1596.shp\n",
      "40_40/split_features/1597/1597.shp\n",
      "40_40/split_features/1598/1598.shp\n",
      "40_40/split_features/1599/1599.shp\n",
      "Done\n"
     ]
    }
   ],
   "source": [
    "base_src_path = \"40_40/split_features\"\n",
    "base_target_path = \"40_40/GeoJSON\"\n",
    "\n",
    "print(\"Start converting shp's into geojson's\")\n",
    "\n",
    "for i in range(max_x_tile*max_y_tile):\n",
    "    \n",
    "        # Get source shp e.g. '40_40/split_features/0001/0001.shp'\n",
    "        folder_name_shp = all_tiles[i] + \".shp\" \n",
    "        src_path = os.path.join(base_src_path, all_tiles[i], folder_name_shp)\n",
    "        #print(all_tiles[i])\n",
    "        \n",
    "        # Define target location e.g.'40_40/GeoJSON/0001.geojson'\n",
    "        folder_name_geo = all_tiles[i] + \".geojson\"\n",
    "        target_path = os.path.join(base_target_path, folder_name_geo)\n",
    "        \n",
    "        try:\n",
    "            shp_file = geopandas.read_file(src_path)\n",
    "            shp_file.to_file(target_path)    \n",
    "        except:\n",
    "            print(src_path)\n",
    "            \n",
    "print(\"Done\")"
   ]
  },
  {
   "cell_type": "markdown",
   "id": "05600608-6fc8-4bb1-a319-fff75c9cb4ef",
   "metadata": {},
   "source": [
    "# Notes"
   ]
  },
  {
   "cell_type": "markdown",
   "id": "76f779b3-77af-4b96-ac8a-d8b68c800f83",
   "metadata": {},
   "source": [
    "## Done\n",
    "* Converted the shp files into GeoJSON files\n",
    "* Extracting features needed by YOLOv5 from the GeoJSON files (Extracting_parameters.ipynb)\n",
    "\n",
    "## Next Step \n",
    "* Rename Images so that they fit to the GeoJSON files\n",
    "* Split images into train and validation sets\n",
    "\n",
    "## Realizations\n",
    "* Not every image has a feature file\n",
    "* Some features at the edge of the image will be only partly visible \n",
    "    * Maybe overlapping of images while splitting them in QGIS can help for better results\n",
    "* YOLOv5 can train on tif's, maybe better performance on JPEG's"
   ]
  },
  {
   "cell_type": "code",
   "execution_count": null,
   "id": "e0468e60-0088-497b-bb2c-401ef968c686",
   "metadata": {},
   "outputs": [],
   "source": []
  }
 ],
 "metadata": {
  "kernelspec": {
   "display_name": "Python 3 (ipykernel)",
   "language": "python",
   "name": "python3"
  },
  "language_info": {
   "codemirror_mode": {
    "name": "ipython",
    "version": 3
   },
   "file_extension": ".py",
   "mimetype": "text/x-python",
   "name": "python",
   "nbconvert_exporter": "python",
   "pygments_lexer": "ipython3",
   "version": "3.10.9"
  }
 },
 "nbformat": 4,
 "nbformat_minor": 5
}
